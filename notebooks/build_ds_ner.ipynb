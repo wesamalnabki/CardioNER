{
 "cells": [
  {
   "cell_type": "code",
   "execution_count": 1,
   "id": "aa83cbb6-acd5-4b59-a5a3-aafcd7c1b9cb",
   "metadata": {},
   "outputs": [
    {
     "name": "stdout",
     "output_type": "stream",
     "text": [
      "True\n"
     ]
    }
   ],
   "source": [
    "import argparse\n",
    "import os\n",
    "import re\n",
    "\n",
    "import pandas as pd\n",
    "from datasets import Dataset, DatasetDict, Features, Sequence, ClassLabel, Value\n",
    "from dotenv import find_dotenv, load_dotenv\n",
    "from nltk.tokenize import sent_tokenize\n",
    "from tqdm import tqdm\n",
    "from langchain.text_splitter import RecursiveCharacterTextSplitter\n",
    "from langchain.schema import Document\n",
    "\n",
    "\n",
    "MAX_TOKENS_IOB_SENT = 256\n",
    "OVERLAPPING_LEN = 0\n",
    "\n",
    "# Split text into sentence-like chunks (page_content only)\n",
    "text_splitter = RecursiveCharacterTextSplitter.from_tiktoken_encoder(\n",
    "    encoding_name='o200k_base',\n",
    "    separators=[\"\\n\\n\\n\", \"\\n\\n\", \"\\n\", \" .\", \" !\", \" ?\", \" ،\", \" ,\", \" \", \"\"],\n",
    "    keep_separator=True,\n",
    "    chunk_size=MAX_TOKENS_IOB_SENT,\n",
    "    chunk_overlap=OVERLAPPING_LEN,\n",
    ")\n",
    "\n",
    "print(load_dotenv(find_dotenv(\".env\")))\n",
    "\n",
    "\n",
    "def assign_iob_tags(text, token_spans, entities):\n",
    "    \"\"\"\n",
    "    Assign IOB tags to tokens based on character-based entity spans.\n",
    "\n",
    "    Args:\n",
    "        text: Original text.\n",
    "        token_spans: List of (start, end) character indices for tokens.\n",
    "        entities: List of dicts with 'start', 'end', 'tag'.\n",
    "\n",
    "    Returns:\n",
    "        List of (token_text, tag) tuples.\n",
    "    \"\"\"\n",
    "    tags = []\n",
    "\n",
    "    for token in token_spans:\n",
    "        token_start, token_end = token.start(), token.end()\n",
    "        token_tag = 'O'\n",
    "        for entity in entities:\n",
    "            ent_start, ent_end, ent_tag = entity[0], entity[1], entity[2]\n",
    "            if token_start >= ent_start and token_end <= ent_end:\n",
    "                if token_start == ent_start:\n",
    "                    token_tag = f'B-{ent_tag}'\n",
    "                else:\n",
    "                    token_tag = f'I-{ent_tag}'\n",
    "                break\n",
    "        token_text = text[token_start:token_end]\n",
    "        tags.append(f\"{token_text}\\t{token_tag}\")\n",
    "    \n",
    "    return tags\n",
    "\n",
    "\n",
    "def split_sentence_with_indices(text):\n",
    "    pattern = r'''\n",
    "        (?:\n",
    "            \\d+[.,]?\\d*\\s*[%$€]?               # Numbers with optional decimal/currency\n",
    "        )\n",
    "        |\n",
    "        \\w+(?:-\\w+)*                           # Words with optional hyphens (Unicode-aware)\n",
    "        |\n",
    "        [()\\[\\]{}]                             # Parentheses and brackets\n",
    "        |\n",
    "        [^\\w\\s]                                # Other single punctuation marks\n",
    "    '''\n",
    "    return list(re.finditer(pattern, text, flags=re.VERBOSE | re.UNICODE))\n",
    "\n",
    "def chunk_iob_tagged_text(text, iob_data, token_spans):\n",
    "    \"\"\"\n",
    "    Split long IOB-tagged text into sentence-like chunks using a character splitter,\n",
    "    then align tokens and their IOB tags within each chunk.\n",
    "\n",
    "    Parameters:\n",
    "    - text: str, full input text\n",
    "    - iob_data: list of str, IOB tags for each token\n",
    "    - token_spans: list of (start, end) tuples or re.Match objects for each token\n",
    "\n",
    "\n",
    "    Returns:\n",
    "    - List of chunks, each a list of 'token<TAB>tag' strings\n",
    "    \"\"\"\n",
    "\n",
    "    # Convert Match objects to (start, end) tuples if needed\n",
    "    token_positions = [(m.start(), m.end()) if hasattr(m, 'start') else m for m in token_spans]\n",
    "\n",
    "\n",
    "    raw_chunks = text_splitter.split_text(text)\n",
    "\n",
    "    # Align each chunk manually by finding its first occurrence in text\n",
    "    used_indices = set()\n",
    "    chunks = []\n",
    "\n",
    "    for chunk_text in raw_chunks:\n",
    "        # Find the first unique match position in text to use as a start index\n",
    "        start_index = text.find(chunk_text)\n",
    "\n",
    "        # Prevent collisions if chunk_text repeats (naïve fallback)\n",
    "        while start_index in used_indices:\n",
    "            start_index = text.find(chunk_text, start_index + 1)\n",
    "        used_indices.add(start_index)\n",
    "\n",
    "        end_index = start_index + len(chunk_text)\n",
    "\n",
    "        chunk_lines = []\n",
    "        for (start, end), tag_full in zip(token_positions, iob_data):\n",
    "            if start_index <= start < end_index:\n",
    "                token = text[start:end]\n",
    "                tag = tag_full.split(\"\\t\")[1]\n",
    "                wd = tag_full.split(\"\\t\")[0]\n",
    "                if wd!=token:\n",
    "                    print(\"ERROR HERE\")\n",
    "                chunk_lines.append(f\"{token}\\t{tag}\")\n",
    "\n",
    "        if chunk_lines:\n",
    "            chunks.append(chunk_lines)\n",
    "\n",
    "    return chunks\n",
    "\n",
    "\n",
    "\n",
    "def write_iob_to_file(iob_sentences, output_file_path):\n",
    "    \"\"\"\n",
    "    Writes IOB annotations to a file.\n",
    "\n",
    "    Args:\n",
    "        iob_sentences (list of list of str): A list of sentences, where each sentence is a list of strings\n",
    "                                            in the format \"word<TAB>tag\".\n",
    "        output_file_path (str): The path to the output file where the IOB annotations will be written.\n",
    "    \"\"\"\n",
    "    with open(output_file_path, 'w', encoding='utf-8') as file:\n",
    "        for sentence in iob_sentences:\n",
    "            for word_tag in sentence:\n",
    "                file.write(word_tag + '\\n')\n",
    "            # Add an empty line after each sentence\n",
    "            file.write('\\n')\n",
    "\n",
    "\n",
    "def filter_entities(entities):\n",
    "    # Sort entities by start index, then by end index (longest first)\n",
    "    entities.sort(key=lambda x: (x[0], -x[1]))\n",
    "\n",
    "    # Filter entities to remove internal ranges\n",
    "    filtered_entities = []\n",
    "    for entity in entities:\n",
    "        start, end, entity_name, entity_text = entity\n",
    "        is_internal = False\n",
    "\n",
    "        # Check if the current entity is internal to any previously added entity\n",
    "        for prev_entity in filtered_entities:\n",
    "            prev_start, prev_end, _, _ = prev_entity\n",
    "            if start >= prev_start and end <= prev_end:\n",
    "                is_internal = True\n",
    "                break\n",
    "\n",
    "        # If the entity is not internal, add it to the filtered list\n",
    "        if not is_internal:\n",
    "            filtered_entities.append(entity)\n",
    "\n",
    "    return filtered_entities\n",
    "\n",
    "\n",
    "def convert_conll_to_datasetdict(train_path, val_path=None, test_path=None, label_list=None, unknown_tag=\"O\"):\n",
    "    \"\"\"\n",
    "    Converts CoNLL files to a HuggingFace DatasetDict with typed features.\n",
    "    If unknown tags are found, they will be replaced with `unknown_tag`.\n",
    "    \"\"\"\n",
    "    if not label_list:\n",
    "        raise ValueError(\"You must provide a label_list to define features properly.\")\n",
    "\n",
    "    features = Features({\n",
    "        \"id\": Value(\"string\"),\n",
    "        \"tokens\": Sequence(Value(\"string\")),\n",
    "        \"ner_tags\": Sequence(ClassLabel(names=label_list))\n",
    "    })\n",
    "\n",
    "    label2id = {label: idx for idx, label in enumerate(label_list)}\n",
    "\n",
    "    def encode_tags(example):\n",
    "        corrected_tags = []\n",
    "        for tag in example[\"ner_tags\"]:\n",
    "            if tag not in label2id:\n",
    "                print(f\"Warning: unknown tag '{tag}' found. Replacing with '{unknown_tag}'\")\n",
    "                tag = unknown_tag\n",
    "            corrected_tags.append(label2id[tag])\n",
    "        example[\"ner_tags\"] = corrected_tags\n",
    "        return example\n",
    "\n",
    "    data_dict = {}\n",
    "    for split, path in zip([\"train\", \"validation\", \"test\"], [train_path, val_path, test_path]):\n",
    "        if path:\n",
    "            examples = parse_conll_file(path)\n",
    "            dataset = Dataset.from_list(examples)\n",
    "            dataset = dataset.map(encode_tags)\n",
    "            dataset = dataset.cast(features)  # Apply typed features after mapping\n",
    "            data_dict[split] = dataset\n",
    "\n",
    "    return DatasetDict(data_dict)\n",
    "\n",
    "\n",
    "def parse_conll_file(file_path):\n",
    "    \"\"\"\n",
    "    Parses a CoNLL file and returns a list of dicts with 'id', 'tokens', and 'ner_tags'.\n",
    "    \"\"\"\n",
    "    examples = []\n",
    "    with open(file_path, encoding='utf-8') as f:\n",
    "        tokens = []\n",
    "        tags = []\n",
    "        example_id = 0\n",
    "        for line in f:\n",
    "            line = line.strip()\n",
    "            if not line:\n",
    "                if tokens:\n",
    "                    examples.append({\n",
    "                        \"id\": str(example_id),\n",
    "                        \"tokens\": tokens,\n",
    "                        \"ner_tags\": tags\n",
    "                    })\n",
    "                    example_id += 1\n",
    "                    tokens = []\n",
    "                    tags = []\n",
    "            else:\n",
    "                splits = line.split()\n",
    "                if len(splits) >= 2:\n",
    "                    token = splits[0]\n",
    "                    tag = splits[-1]\n",
    "                    tokens.append(token)\n",
    "                    tags.append(tag)\n",
    "        if tokens:\n",
    "            examples.append({\n",
    "                \"id\": str(example_id),\n",
    "                \"tokens\": tokens,\n",
    "                \"ner_tags\": tags\n",
    "            })\n",
    "    return examples\n",
    "\n",
    "\n",
    "def ann2iob_singlefile(text_file_path, annotations):\n",
    "    # Read the text file\n",
    "    with open(text_file_path, 'r', encoding='utf-8') as file:\n",
    "        text = file.read()\n",
    "\n",
    "    # Parse annotations\n",
    "    entities = []\n",
    "    for ann in annotations:\n",
    "        try:\n",
    "\n",
    "            entity_name_start_end = int(ann['start_span'])\n",
    "            entity_name_end_end = int(ann['end_span'])\n",
    "            entity_text = ann['text']\n",
    "            entity_type = ann['label']\n",
    "\n",
    "            entities.append((entity_name_start_end, entity_name_end_end, entity_type, entity_text))\n",
    "        except Exception as ex:\n",
    "            print(ann)\n",
    "            print(ex)\n",
    "            break\n",
    "\n",
    "            # Sort entities by start index, and then by length (longer first)\n",
    "    entities.sort(key=lambda x: (x[0], -x[1]))\n",
    "\n",
    "    entities = filter_entities(entities)\n",
    "\n",
    "    # Find the word boundaries within the entity span\n",
    "    token_spans = split_sentence_with_indices(text)\n",
    "\n",
    "\n",
    "    iob_data = assign_iob_tags(text, token_spans, entities)\n",
    "    \n",
    "    iob_data = chunk_iob_tagged_text(text, iob_data, \n",
    "                                     token_spans)\n",
    "    \n",
    "    return iob_data\n",
    "\n",
    "\n",
    "def load_tsv_to_dataframe(file_path: str) -> pd.DataFrame:\n",
    "    \"\"\"\n",
    "    Loads a TSV file with specific columns into a pandas DataFrame.\n",
    "\n",
    "    Expected columns:\n",
    "        filename, label, start_span, end_span, text, note\n",
    "\n",
    "    Args:\n",
    "        file_path (str): Path to the TSV file.\n",
    "\n",
    "    Returns:\n",
    "        pd.DataFrame: DataFrame containing the TSV data.\n",
    "    \"\"\"\n",
    "    df = pd.read_csv(\n",
    "        file_path,\n",
    "        sep='\\t',\n",
    "        dtype={\n",
    "            \"filename\": str,\n",
    "            \"label\": str,\n",
    "            \"start_span\": int,\n",
    "            \"end_span\": int,\n",
    "            \"text\": str,\n",
    "            \"note\": str\n",
    "        },\n",
    "        keep_default_na=False  # Prevents empty strings being converted to NaN\n",
    "    )\n",
    "    return df\n",
    "\n",
    "\n",
    "def generate_iob(txt_root_dict, tsv_file_path, iob_file_path):\n",
    "    # to save the IOB sentences of all the files\n",
    "    # load all annotations\n",
    "    df = load_tsv_to_dataframe(tsv_file_path)\n",
    "\n",
    "    iob_sentences = []\n",
    "    for sample_name in tqdm(os.listdir(txt_root_dict)):\n",
    "        # sample_name = \"32277408_ES.txt\"\n",
    "        sample_text_file_path = os.path.join(txt_root_dict, sample_name)\n",
    "\n",
    "        # get the annotation of this specific sample:\n",
    "        sample_df = df[df['filename'] == sample_name.replace(\".txt\", \"\")]\n",
    "        if len(sample_df) == 0:\n",
    "            continue\n",
    "        sample_annotation = sample_df.to_dict(orient=\"records\")\n",
    "\n",
    "        # convert the annotation to IOB (all text):\n",
    "        iob_file = ann2iob_singlefile(text_file_path=sample_text_file_path,\n",
    "                                          annotations=sample_annotation,\n",
    "                                         \n",
    "                                          )\n",
    "                                \n",
    "        iob_sentences.extend(iob_file)\n",
    "\n",
    "    write_iob_to_file(iob_sentences, iob_file_path)"
   ]
  },
  {
   "cell_type": "code",
   "execution_count": 2,
   "id": "dfe4623b",
   "metadata": {},
   "outputs": [
    {
     "name": "stdout",
     "output_type": "stream",
     "text": [
      "es\n",
      "dis\n"
     ]
    },
    {
     "name": "stderr",
     "output_type": "stream",
     "text": [
      "  0%|          | 0/508 [00:00<?, ?it/s]"
     ]
    },
    {
     "name": "stderr",
     "output_type": "stream",
     "text": [
      "100%|██████████| 508/508 [00:07<00:00, 71.61it/s] \n",
      "100%|██████████| 508/508 [00:10<00:00, 46.46it/s]\n"
     ]
    },
    {
     "data": {
      "application/vnd.jupyter.widget-view+json": {
       "model_id": "167151a5497e443ba3b460246f64dcdb",
       "version_major": 2,
       "version_minor": 0
      },
      "text/plain": [
       "Map:   0%|          | 0/3010 [00:00<?, ? examples/s]"
      ]
     },
     "metadata": {},
     "output_type": "display_data"
    },
    {
     "data": {
      "application/vnd.jupyter.widget-view+json": {
       "model_id": "507eae69761f4ab4867e3604a3fa832d",
       "version_major": 2,
       "version_minor": 0
      },
      "text/plain": [
       "Casting the dataset:   0%|          | 0/3010 [00:00<?, ? examples/s]"
      ]
     },
     "metadata": {},
     "output_type": "display_data"
    },
    {
     "data": {
      "application/vnd.jupyter.widget-view+json": {
       "model_id": "e5a286814ff44b1f99f1bfdc5f96c9d3",
       "version_major": 2,
       "version_minor": 0
      },
      "text/plain": [
       "Map:   0%|          | 0/2473 [00:00<?, ? examples/s]"
      ]
     },
     "metadata": {},
     "output_type": "display_data"
    },
    {
     "data": {
      "application/vnd.jupyter.widget-view+json": {
       "model_id": "0ad25664872545369e68d29454f047a9",
       "version_major": 2,
       "version_minor": 0
      },
      "text/plain": [
       "Casting the dataset:   0%|          | 0/2473 [00:00<?, ? examples/s]"
      ]
     },
     "metadata": {},
     "output_type": "display_data"
    },
    {
     "name": "stdout",
     "output_type": "stream",
     "text": [
      "med\n"
     ]
    },
    {
     "name": "stderr",
     "output_type": "stream",
     "text": [
      "100%|██████████| 508/508 [00:09<00:00, 51.01it/s]\n",
      "100%|██████████| 508/508 [00:07<00:00, 64.33it/s] \n"
     ]
    },
    {
     "data": {
      "application/vnd.jupyter.widget-view+json": {
       "model_id": "c14dce6bafec409bb4a0a19a4d2979e0",
       "version_major": 2,
       "version_minor": 0
      },
      "text/plain": [
       "Map:   0%|          | 0/2844 [00:00<?, ? examples/s]"
      ]
     },
     "metadata": {},
     "output_type": "display_data"
    },
    {
     "data": {
      "application/vnd.jupyter.widget-view+json": {
       "model_id": "409e5ee3af9244f6a119261274a15ef9",
       "version_major": 2,
       "version_minor": 0
      },
      "text/plain": [
       "Casting the dataset:   0%|          | 0/2844 [00:00<?, ? examples/s]"
      ]
     },
     "metadata": {},
     "output_type": "display_data"
    },
    {
     "data": {
      "application/vnd.jupyter.widget-view+json": {
       "model_id": "1718191ad4fa448884e84f36be963584",
       "version_major": 2,
       "version_minor": 0
      },
      "text/plain": [
       "Map:   0%|          | 0/2258 [00:00<?, ? examples/s]"
      ]
     },
     "metadata": {},
     "output_type": "display_data"
    },
    {
     "data": {
      "application/vnd.jupyter.widget-view+json": {
       "model_id": "f7620477816c4f49b30233cf04878ab6",
       "version_major": 2,
       "version_minor": 0
      },
      "text/plain": [
       "Casting the dataset:   0%|          | 0/2258 [00:00<?, ? examples/s]"
      ]
     },
     "metadata": {},
     "output_type": "display_data"
    },
    {
     "name": "stdout",
     "output_type": "stream",
     "text": [
      "proc\n"
     ]
    },
    {
     "name": "stderr",
     "output_type": "stream",
     "text": [
      "100%|██████████| 508/508 [00:13<00:00, 39.06it/s]\n",
      "100%|██████████| 508/508 [00:10<00:00, 47.13it/s]\n"
     ]
    },
    {
     "data": {
      "application/vnd.jupyter.widget-view+json": {
       "model_id": "8d5421f548414a2ab9faeb0ec2542194",
       "version_major": 2,
       "version_minor": 0
      },
      "text/plain": [
       "Map:   0%|          | 0/3010 [00:00<?, ? examples/s]"
      ]
     },
     "metadata": {},
     "output_type": "display_data"
    },
    {
     "data": {
      "application/vnd.jupyter.widget-view+json": {
       "model_id": "7077e0d0487a4931a1a8618d3e2ca77f",
       "version_major": 2,
       "version_minor": 0
      },
      "text/plain": [
       "Casting the dataset:   0%|          | 0/3010 [00:00<?, ? examples/s]"
      ]
     },
     "metadata": {},
     "output_type": "display_data"
    },
    {
     "data": {
      "application/vnd.jupyter.widget-view+json": {
       "model_id": "dcbf8922b2bd4d2581d87039dc691d84",
       "version_major": 2,
       "version_minor": 0
      },
      "text/plain": [
       "Map:   0%|          | 0/2473 [00:00<?, ? examples/s]"
      ]
     },
     "metadata": {},
     "output_type": "display_data"
    },
    {
     "data": {
      "application/vnd.jupyter.widget-view+json": {
       "model_id": "230b06ee2b9c4a1098040c6de2b717be",
       "version_major": 2,
       "version_minor": 0
      },
      "text/plain": [
       "Casting the dataset:   0%|          | 0/2473 [00:00<?, ? examples/s]"
      ]
     },
     "metadata": {},
     "output_type": "display_data"
    },
    {
     "name": "stdout",
     "output_type": "stream",
     "text": [
      "symp\n"
     ]
    },
    {
     "name": "stderr",
     "output_type": "stream",
     "text": [
      "100%|██████████| 508/508 [00:12<00:00, 41.59it/s]\n",
      "100%|██████████| 508/508 [00:03<00:00, 155.91it/s]\n"
     ]
    },
    {
     "data": {
      "application/vnd.jupyter.widget-view+json": {
       "model_id": "6bd35dc0d6f546db9fb980d8e82e4db9",
       "version_major": 2,
       "version_minor": 0
      },
      "text/plain": [
       "Map:   0%|          | 0/3010 [00:00<?, ? examples/s]"
      ]
     },
     "metadata": {},
     "output_type": "display_data"
    },
    {
     "data": {
      "application/vnd.jupyter.widget-view+json": {
       "model_id": "10eb094e9a1b4edd8afe3b7f5013d9f1",
       "version_major": 2,
       "version_minor": 0
      },
      "text/plain": [
       "Casting the dataset:   0%|          | 0/3010 [00:00<?, ? examples/s]"
      ]
     },
     "metadata": {},
     "output_type": "display_data"
    },
    {
     "data": {
      "application/vnd.jupyter.widget-view+json": {
       "model_id": "b49aa080ab4a4af1bf719b9321f6c9e2",
       "version_major": 2,
       "version_minor": 0
      },
      "text/plain": [
       "Map:   0%|          | 0/2473 [00:00<?, ? examples/s]"
      ]
     },
     "metadata": {},
     "output_type": "display_data"
    },
    {
     "data": {
      "application/vnd.jupyter.widget-view+json": {
       "model_id": "0ee8b13d333648188892303db60aa809",
       "version_major": 2,
       "version_minor": 0
      },
      "text/plain": [
       "Casting the dataset:   0%|          | 0/2473 [00:00<?, ? examples/s]"
      ]
     },
     "metadata": {},
     "output_type": "display_data"
    },
    {
     "name": "stdout",
     "output_type": "stream",
     "text": [
      "en\n",
      "dis\n"
     ]
    },
    {
     "name": "stderr",
     "output_type": "stream",
     "text": [
      "100%|██████████| 508/508 [00:03<00:00, 151.33it/s]\n",
      "100%|██████████| 508/508 [00:02<00:00, 177.35it/s]\n"
     ]
    },
    {
     "data": {
      "application/vnd.jupyter.widget-view+json": {
       "model_id": "7b1eb5069e674abbbf1e5fd97392d46e",
       "version_major": 2,
       "version_minor": 0
      },
      "text/plain": [
       "Map:   0%|          | 0/2644 [00:00<?, ? examples/s]"
      ]
     },
     "metadata": {},
     "output_type": "display_data"
    },
    {
     "data": {
      "application/vnd.jupyter.widget-view+json": {
       "model_id": "31f8e82081404b54ad1b9045f26f7d72",
       "version_major": 2,
       "version_minor": 0
      },
      "text/plain": [
       "Casting the dataset:   0%|          | 0/2644 [00:00<?, ? examples/s]"
      ]
     },
     "metadata": {},
     "output_type": "display_data"
    },
    {
     "data": {
      "application/vnd.jupyter.widget-view+json": {
       "model_id": "d8f91a4fb89146eea0f2073c0d1b8100",
       "version_major": 2,
       "version_minor": 0
      },
      "text/plain": [
       "Map:   0%|          | 0/2145 [00:00<?, ? examples/s]"
      ]
     },
     "metadata": {},
     "output_type": "display_data"
    },
    {
     "data": {
      "application/vnd.jupyter.widget-view+json": {
       "model_id": "082ed7181a0145c4aeb318f2286b0a9c",
       "version_major": 2,
       "version_minor": 0
      },
      "text/plain": [
       "Casting the dataset:   0%|          | 0/2145 [00:00<?, ? examples/s]"
      ]
     },
     "metadata": {},
     "output_type": "display_data"
    },
    {
     "name": "stdout",
     "output_type": "stream",
     "text": [
      "med\n"
     ]
    },
    {
     "name": "stderr",
     "output_type": "stream",
     "text": [
      "100%|██████████| 508/508 [00:02<00:00, 177.94it/s]\n",
      "100%|██████████| 508/508 [00:02<00:00, 193.86it/s]\n"
     ]
    },
    {
     "data": {
      "application/vnd.jupyter.widget-view+json": {
       "model_id": "5992f24c39e3468badc80b2de709728b",
       "version_major": 2,
       "version_minor": 0
      },
      "text/plain": [
       "Map:   0%|          | 0/2491 [00:00<?, ? examples/s]"
      ]
     },
     "metadata": {},
     "output_type": "display_data"
    },
    {
     "data": {
      "application/vnd.jupyter.widget-view+json": {
       "model_id": "1c31060b07e94511b29c66793ef9dbea",
       "version_major": 2,
       "version_minor": 0
      },
      "text/plain": [
       "Casting the dataset:   0%|          | 0/2491 [00:00<?, ? examples/s]"
      ]
     },
     "metadata": {},
     "output_type": "display_data"
    },
    {
     "data": {
      "application/vnd.jupyter.widget-view+json": {
       "model_id": "b2ae863d77f648ceaff51c2b5063ca83",
       "version_major": 2,
       "version_minor": 0
      },
      "text/plain": [
       "Map:   0%|          | 0/1965 [00:00<?, ? examples/s]"
      ]
     },
     "metadata": {},
     "output_type": "display_data"
    },
    {
     "data": {
      "application/vnd.jupyter.widget-view+json": {
       "model_id": "29ba86f6a09d4ac3a4d0c2bfbcc4b850",
       "version_major": 2,
       "version_minor": 0
      },
      "text/plain": [
       "Casting the dataset:   0%|          | 0/1965 [00:00<?, ? examples/s]"
      ]
     },
     "metadata": {},
     "output_type": "display_data"
    },
    {
     "name": "stdout",
     "output_type": "stream",
     "text": [
      "proc\n"
     ]
    },
    {
     "name": "stderr",
     "output_type": "stream",
     "text": [
      "100%|██████████| 508/508 [00:04<00:00, 121.78it/s]\n",
      "100%|██████████| 508/508 [00:03<00:00, 151.59it/s]\n"
     ]
    },
    {
     "data": {
      "application/vnd.jupyter.widget-view+json": {
       "model_id": "d6d386e61a504b09806f2714a6beffe1",
       "version_major": 2,
       "version_minor": 0
      },
      "text/plain": [
       "Map:   0%|          | 0/2644 [00:00<?, ? examples/s]"
      ]
     },
     "metadata": {},
     "output_type": "display_data"
    },
    {
     "data": {
      "application/vnd.jupyter.widget-view+json": {
       "model_id": "a1b3205186ac4cba819bef277987211e",
       "version_major": 2,
       "version_minor": 0
      },
      "text/plain": [
       "Casting the dataset:   0%|          | 0/2644 [00:00<?, ? examples/s]"
      ]
     },
     "metadata": {},
     "output_type": "display_data"
    },
    {
     "data": {
      "application/vnd.jupyter.widget-view+json": {
       "model_id": "e7dd919c5a3b4635ae6ab49b326bbd9d",
       "version_major": 2,
       "version_minor": 0
      },
      "text/plain": [
       "Map:   0%|          | 0/2145 [00:00<?, ? examples/s]"
      ]
     },
     "metadata": {},
     "output_type": "display_data"
    },
    {
     "data": {
      "application/vnd.jupyter.widget-view+json": {
       "model_id": "2fbc5b13336f43e2a4426d6cfe1f560b",
       "version_major": 2,
       "version_minor": 0
      },
      "text/plain": [
       "Casting the dataset:   0%|          | 0/2145 [00:00<?, ? examples/s]"
      ]
     },
     "metadata": {},
     "output_type": "display_data"
    },
    {
     "name": "stdout",
     "output_type": "stream",
     "text": [
      "symp\n"
     ]
    },
    {
     "name": "stderr",
     "output_type": "stream",
     "text": [
      "100%|██████████| 508/508 [00:04<00:00, 120.84it/s]\n",
      "100%|██████████| 508/508 [00:03<00:00, 140.71it/s]\n"
     ]
    },
    {
     "data": {
      "application/vnd.jupyter.widget-view+json": {
       "model_id": "7273e259fb9b476aafc841b6f0db36a4",
       "version_major": 2,
       "version_minor": 0
      },
      "text/plain": [
       "Map:   0%|          | 0/2644 [00:00<?, ? examples/s]"
      ]
     },
     "metadata": {},
     "output_type": "display_data"
    },
    {
     "data": {
      "application/vnd.jupyter.widget-view+json": {
       "model_id": "656797c6a76345438b75e0a6b172f810",
       "version_major": 2,
       "version_minor": 0
      },
      "text/plain": [
       "Casting the dataset:   0%|          | 0/2644 [00:00<?, ? examples/s]"
      ]
     },
     "metadata": {},
     "output_type": "display_data"
    },
    {
     "data": {
      "application/vnd.jupyter.widget-view+json": {
       "model_id": "8ba52d8c26fc4d238174297a90de3dbd",
       "version_major": 2,
       "version_minor": 0
      },
      "text/plain": [
       "Map:   0%|          | 0/2145 [00:00<?, ? examples/s]"
      ]
     },
     "metadata": {},
     "output_type": "display_data"
    },
    {
     "data": {
      "application/vnd.jupyter.widget-view+json": {
       "model_id": "b23ab49a642e46118491add5b1f17dde",
       "version_major": 2,
       "version_minor": 0
      },
      "text/plain": [
       "Casting the dataset:   0%|          | 0/2145 [00:00<?, ? examples/s]"
      ]
     },
     "metadata": {},
     "output_type": "display_data"
    },
    {
     "name": "stdout",
     "output_type": "stream",
     "text": [
      "cz\n",
      "dis\n"
     ]
    },
    {
     "name": "stderr",
     "output_type": "stream",
     "text": [
      "100%|██████████| 508/508 [00:04<00:00, 102.41it/s]\n",
      "100%|██████████| 508/508 [00:03<00:00, 132.09it/s]\n"
     ]
    },
    {
     "data": {
      "application/vnd.jupyter.widget-view+json": {
       "model_id": "8dcfc0e74f314e2188dad7cdea86952c",
       "version_major": 2,
       "version_minor": 0
      },
      "text/plain": [
       "Map:   0%|          | 0/3676 [00:00<?, ? examples/s]"
      ]
     },
     "metadata": {},
     "output_type": "display_data"
    },
    {
     "data": {
      "application/vnd.jupyter.widget-view+json": {
       "model_id": "a047f1f7278246fbbf14a98a6417e8cf",
       "version_major": 2,
       "version_minor": 0
      },
      "text/plain": [
       "Casting the dataset:   0%|          | 0/3676 [00:00<?, ? examples/s]"
      ]
     },
     "metadata": {},
     "output_type": "display_data"
    },
    {
     "data": {
      "application/vnd.jupyter.widget-view+json": {
       "model_id": "cb565e82f8f04932870a65ab3c4f040e",
       "version_major": 2,
       "version_minor": 0
      },
      "text/plain": [
       "Map:   0%|          | 0/2984 [00:00<?, ? examples/s]"
      ]
     },
     "metadata": {},
     "output_type": "display_data"
    },
    {
     "data": {
      "application/vnd.jupyter.widget-view+json": {
       "model_id": "84174155ff254dfbb541321208a76839",
       "version_major": 2,
       "version_minor": 0
      },
      "text/plain": [
       "Casting the dataset:   0%|          | 0/2984 [00:00<?, ? examples/s]"
      ]
     },
     "metadata": {},
     "output_type": "display_data"
    },
    {
     "name": "stdout",
     "output_type": "stream",
     "text": [
      "med\n"
     ]
    },
    {
     "name": "stderr",
     "output_type": "stream",
     "text": [
      "100%|██████████| 508/508 [00:03<00:00, 130.11it/s]\n",
      "100%|██████████| 508/508 [00:02<00:00, 179.53it/s]\n"
     ]
    },
    {
     "data": {
      "application/vnd.jupyter.widget-view+json": {
       "model_id": "b337fe1d2329406fad0f5d7ce49f9fa5",
       "version_major": 2,
       "version_minor": 0
      },
      "text/plain": [
       "Map:   0%|          | 0/3476 [00:00<?, ? examples/s]"
      ]
     },
     "metadata": {},
     "output_type": "display_data"
    },
    {
     "data": {
      "application/vnd.jupyter.widget-view+json": {
       "model_id": "07d1c9e7e8334fb99b9e3965d9bfcfe9",
       "version_major": 2,
       "version_minor": 0
      },
      "text/plain": [
       "Casting the dataset:   0%|          | 0/3476 [00:00<?, ? examples/s]"
      ]
     },
     "metadata": {},
     "output_type": "display_data"
    },
    {
     "data": {
      "application/vnd.jupyter.widget-view+json": {
       "model_id": "ec9f863192b84e36b2af7f9993256ce3",
       "version_major": 2,
       "version_minor": 0
      },
      "text/plain": [
       "Map:   0%|          | 0/2747 [00:00<?, ? examples/s]"
      ]
     },
     "metadata": {},
     "output_type": "display_data"
    },
    {
     "data": {
      "application/vnd.jupyter.widget-view+json": {
       "model_id": "338422003ca4443ab926b562dc67111b",
       "version_major": 2,
       "version_minor": 0
      },
      "text/plain": [
       "Casting the dataset:   0%|          | 0/2747 [00:00<?, ? examples/s]"
      ]
     },
     "metadata": {},
     "output_type": "display_data"
    },
    {
     "name": "stdout",
     "output_type": "stream",
     "text": [
      "proc\n"
     ]
    },
    {
     "name": "stderr",
     "output_type": "stream",
     "text": [
      "100%|██████████| 508/508 [00:05<00:00, 99.49it/s] \n",
      "100%|██████████| 508/508 [00:03<00:00, 128.06it/s]\n"
     ]
    },
    {
     "data": {
      "application/vnd.jupyter.widget-view+json": {
       "model_id": "a7ee653ca19e4c08bd49db3380710a3c",
       "version_major": 2,
       "version_minor": 0
      },
      "text/plain": [
       "Map:   0%|          | 0/3676 [00:00<?, ? examples/s]"
      ]
     },
     "metadata": {},
     "output_type": "display_data"
    },
    {
     "data": {
      "application/vnd.jupyter.widget-view+json": {
       "model_id": "91eb2a51770948ca9ab7639f97b3d95a",
       "version_major": 2,
       "version_minor": 0
      },
      "text/plain": [
       "Casting the dataset:   0%|          | 0/3676 [00:00<?, ? examples/s]"
      ]
     },
     "metadata": {},
     "output_type": "display_data"
    },
    {
     "data": {
      "application/vnd.jupyter.widget-view+json": {
       "model_id": "991038fb4a6d454cbe8364c8ded91c47",
       "version_major": 2,
       "version_minor": 0
      },
      "text/plain": [
       "Map:   0%|          | 0/2984 [00:00<?, ? examples/s]"
      ]
     },
     "metadata": {},
     "output_type": "display_data"
    },
    {
     "data": {
      "application/vnd.jupyter.widget-view+json": {
       "model_id": "dcf6965f10ba4929a8a5abda655700f0",
       "version_major": 2,
       "version_minor": 0
      },
      "text/plain": [
       "Casting the dataset:   0%|          | 0/2984 [00:00<?, ? examples/s]"
      ]
     },
     "metadata": {},
     "output_type": "display_data"
    },
    {
     "name": "stdout",
     "output_type": "stream",
     "text": [
      "symp\n"
     ]
    },
    {
     "name": "stderr",
     "output_type": "stream",
     "text": [
      "100%|██████████| 508/508 [00:04<00:00, 102.93it/s]\n",
      "100%|██████████| 508/508 [00:04<00:00, 116.21it/s]\n"
     ]
    },
    {
     "data": {
      "application/vnd.jupyter.widget-view+json": {
       "model_id": "83a620eb4fbf48a9a0155f2d6a316617",
       "version_major": 2,
       "version_minor": 0
      },
      "text/plain": [
       "Map:   0%|          | 0/3676 [00:00<?, ? examples/s]"
      ]
     },
     "metadata": {},
     "output_type": "display_data"
    },
    {
     "data": {
      "application/vnd.jupyter.widget-view+json": {
       "model_id": "c314f813d65442329f534676076d6c78",
       "version_major": 2,
       "version_minor": 0
      },
      "text/plain": [
       "Casting the dataset:   0%|          | 0/3676 [00:00<?, ? examples/s]"
      ]
     },
     "metadata": {},
     "output_type": "display_data"
    },
    {
     "data": {
      "application/vnd.jupyter.widget-view+json": {
       "model_id": "48f31a11a11148d1acfceebd4d69e7ad",
       "version_major": 2,
       "version_minor": 0
      },
      "text/plain": [
       "Map:   0%|          | 0/2984 [00:00<?, ? examples/s]"
      ]
     },
     "metadata": {},
     "output_type": "display_data"
    },
    {
     "data": {
      "application/vnd.jupyter.widget-view+json": {
       "model_id": "479bb5dc687e494590ab6936b8f2118d",
       "version_major": 2,
       "version_minor": 0
      },
      "text/plain": [
       "Casting the dataset:   0%|          | 0/2984 [00:00<?, ? examples/s]"
      ]
     },
     "metadata": {},
     "output_type": "display_data"
    },
    {
     "name": "stdout",
     "output_type": "stream",
     "text": [
      "nl\n",
      "dis\n"
     ]
    },
    {
     "name": "stderr",
     "output_type": "stream",
     "text": [
      "100%|██████████| 508/508 [00:04<00:00, 104.41it/s]\n",
      "100%|██████████| 508/508 [00:04<00:00, 108.22it/s]\n"
     ]
    },
    {
     "data": {
      "application/vnd.jupyter.widget-view+json": {
       "model_id": "c545a78cd4e740a9a846380a8436d7be",
       "version_major": 2,
       "version_minor": 0
      },
      "text/plain": [
       "Map:   0%|          | 0/3125 [00:00<?, ? examples/s]"
      ]
     },
     "metadata": {},
     "output_type": "display_data"
    },
    {
     "data": {
      "application/vnd.jupyter.widget-view+json": {
       "model_id": "5b297d5a16984fe0a4e8c0458fedf401",
       "version_major": 2,
       "version_minor": 0
      },
      "text/plain": [
       "Casting the dataset:   0%|          | 0/3125 [00:00<?, ? examples/s]"
      ]
     },
     "metadata": {},
     "output_type": "display_data"
    },
    {
     "data": {
      "application/vnd.jupyter.widget-view+json": {
       "model_id": "7d80ca8ae3924c5496b45f808dd55025",
       "version_major": 2,
       "version_minor": 0
      },
      "text/plain": [
       "Map:   0%|          | 0/2544 [00:00<?, ? examples/s]"
      ]
     },
     "metadata": {},
     "output_type": "display_data"
    },
    {
     "data": {
      "application/vnd.jupyter.widget-view+json": {
       "model_id": "006b93d33a4741b4abe24fc73c21f8c1",
       "version_major": 2,
       "version_minor": 0
      },
      "text/plain": [
       "Casting the dataset:   0%|          | 0/2544 [00:00<?, ? examples/s]"
      ]
     },
     "metadata": {},
     "output_type": "display_data"
    },
    {
     "name": "stdout",
     "output_type": "stream",
     "text": [
      "med\n"
     ]
    },
    {
     "name": "stderr",
     "output_type": "stream",
     "text": [
      "100%|██████████| 508/508 [00:03<00:00, 131.14it/s]\n",
      "100%|██████████| 508/508 [00:03<00:00, 167.48it/s]\n"
     ]
    },
    {
     "data": {
      "application/vnd.jupyter.widget-view+json": {
       "model_id": "f7d2914c06ae4d23b0070b99320c547b",
       "version_major": 2,
       "version_minor": 0
      },
      "text/plain": [
       "Map:   0%|          | 0/2963 [00:00<?, ? examples/s]"
      ]
     },
     "metadata": {},
     "output_type": "display_data"
    },
    {
     "data": {
      "application/vnd.jupyter.widget-view+json": {
       "model_id": "fb509f7f4a4b43be8a5b93bd5587e7c8",
       "version_major": 2,
       "version_minor": 0
      },
      "text/plain": [
       "Casting the dataset:   0%|          | 0/2963 [00:00<?, ? examples/s]"
      ]
     },
     "metadata": {},
     "output_type": "display_data"
    },
    {
     "data": {
      "application/vnd.jupyter.widget-view+json": {
       "model_id": "4a45f9e5fb16435588a1b3983c72a25c",
       "version_major": 2,
       "version_minor": 0
      },
      "text/plain": [
       "Map:   0%|          | 0/2334 [00:00<?, ? examples/s]"
      ]
     },
     "metadata": {},
     "output_type": "display_data"
    },
    {
     "data": {
      "application/vnd.jupyter.widget-view+json": {
       "model_id": "467cf64ad0a845fc9003627391a84e7b",
       "version_major": 2,
       "version_minor": 0
      },
      "text/plain": [
       "Casting the dataset:   0%|          | 0/2334 [00:00<?, ? examples/s]"
      ]
     },
     "metadata": {},
     "output_type": "display_data"
    },
    {
     "name": "stdout",
     "output_type": "stream",
     "text": [
      "proc\n"
     ]
    },
    {
     "name": "stderr",
     "output_type": "stream",
     "text": [
      "100%|██████████| 508/508 [00:04<00:00, 117.67it/s]\n",
      "100%|██████████| 508/508 [00:03<00:00, 158.24it/s]\n"
     ]
    },
    {
     "data": {
      "application/vnd.jupyter.widget-view+json": {
       "model_id": "2b64cfca1212451bb689ce3c3e2cfa13",
       "version_major": 2,
       "version_minor": 0
      },
      "text/plain": [
       "Map:   0%|          | 0/3125 [00:00<?, ? examples/s]"
      ]
     },
     "metadata": {},
     "output_type": "display_data"
    },
    {
     "data": {
      "application/vnd.jupyter.widget-view+json": {
       "model_id": "3a27e83f0ae548bf8d7d9113ece27872",
       "version_major": 2,
       "version_minor": 0
      },
      "text/plain": [
       "Casting the dataset:   0%|          | 0/3125 [00:00<?, ? examples/s]"
      ]
     },
     "metadata": {},
     "output_type": "display_data"
    },
    {
     "data": {
      "application/vnd.jupyter.widget-view+json": {
       "model_id": "15503953b1874174a88f6939304b490b",
       "version_major": 2,
       "version_minor": 0
      },
      "text/plain": [
       "Map:   0%|          | 0/2544 [00:00<?, ? examples/s]"
      ]
     },
     "metadata": {},
     "output_type": "display_data"
    },
    {
     "data": {
      "application/vnd.jupyter.widget-view+json": {
       "model_id": "5a104fed94b14f58a257d71a830c4f58",
       "version_major": 2,
       "version_minor": 0
      },
      "text/plain": [
       "Casting the dataset:   0%|          | 0/2544 [00:00<?, ? examples/s]"
      ]
     },
     "metadata": {},
     "output_type": "display_data"
    },
    {
     "name": "stdout",
     "output_type": "stream",
     "text": [
      "symp\n"
     ]
    },
    {
     "name": "stderr",
     "output_type": "stream",
     "text": [
      "100%|██████████| 508/508 [00:03<00:00, 133.05it/s]\n",
      "100%|██████████| 508/508 [00:03<00:00, 154.45it/s]\n"
     ]
    },
    {
     "data": {
      "application/vnd.jupyter.widget-view+json": {
       "model_id": "73810cfc25e147498888611254b51413",
       "version_major": 2,
       "version_minor": 0
      },
      "text/plain": [
       "Map:   0%|          | 0/3125 [00:00<?, ? examples/s]"
      ]
     },
     "metadata": {},
     "output_type": "display_data"
    },
    {
     "data": {
      "application/vnd.jupyter.widget-view+json": {
       "model_id": "edf30933bb834aa1890f65df44eb3f66",
       "version_major": 2,
       "version_minor": 0
      },
      "text/plain": [
       "Casting the dataset:   0%|          | 0/3125 [00:00<?, ? examples/s]"
      ]
     },
     "metadata": {},
     "output_type": "display_data"
    },
    {
     "data": {
      "application/vnd.jupyter.widget-view+json": {
       "model_id": "913593a3aebc491ca7c2ab2fb55a7d7a",
       "version_major": 2,
       "version_minor": 0
      },
      "text/plain": [
       "Map:   0%|          | 0/2544 [00:00<?, ? examples/s]"
      ]
     },
     "metadata": {},
     "output_type": "display_data"
    },
    {
     "data": {
      "application/vnd.jupyter.widget-view+json": {
       "model_id": "25271e8358224aa897688d15f01c6a8e",
       "version_major": 2,
       "version_minor": 0
      },
      "text/plain": [
       "Casting the dataset:   0%|          | 0/2544 [00:00<?, ? examples/s]"
      ]
     },
     "metadata": {},
     "output_type": "display_data"
    },
    {
     "name": "stdout",
     "output_type": "stream",
     "text": [
      "it\n",
      "dis\n"
     ]
    },
    {
     "name": "stderr",
     "output_type": "stream",
     "text": [
      "100%|██████████| 508/508 [00:04<00:00, 108.21it/s]\n",
      "100%|██████████| 508/508 [00:03<00:00, 144.40it/s]\n"
     ]
    },
    {
     "data": {
      "application/vnd.jupyter.widget-view+json": {
       "model_id": "9c768fb8bef144e98486f243365da389",
       "version_major": 2,
       "version_minor": 0
      },
      "text/plain": [
       "Map:   0%|          | 0/3373 [00:00<?, ? examples/s]"
      ]
     },
     "metadata": {},
     "output_type": "display_data"
    },
    {
     "data": {
      "application/vnd.jupyter.widget-view+json": {
       "model_id": "e2c907f49734490b958e110eb7c5c833",
       "version_major": 2,
       "version_minor": 0
      },
      "text/plain": [
       "Casting the dataset:   0%|          | 0/3373 [00:00<?, ? examples/s]"
      ]
     },
     "metadata": {},
     "output_type": "display_data"
    },
    {
     "data": {
      "application/vnd.jupyter.widget-view+json": {
       "model_id": "edd057e3214d4dbe9bf73f761503e3d8",
       "version_major": 2,
       "version_minor": 0
      },
      "text/plain": [
       "Map:   0%|          | 0/2732 [00:00<?, ? examples/s]"
      ]
     },
     "metadata": {},
     "output_type": "display_data"
    },
    {
     "data": {
      "application/vnd.jupyter.widget-view+json": {
       "model_id": "63fa8bc09a0e4ea592f3acc5f14c391f",
       "version_major": 2,
       "version_minor": 0
      },
      "text/plain": [
       "Casting the dataset:   0%|          | 0/2732 [00:00<?, ? examples/s]"
      ]
     },
     "metadata": {},
     "output_type": "display_data"
    },
    {
     "name": "stdout",
     "output_type": "stream",
     "text": [
      "med\n"
     ]
    },
    {
     "name": "stderr",
     "output_type": "stream",
     "text": [
      "100%|██████████| 508/508 [00:03<00:00, 160.82it/s]\n",
      "100%|██████████| 508/508 [00:02<00:00, 202.76it/s]\n"
     ]
    },
    {
     "data": {
      "application/vnd.jupyter.widget-view+json": {
       "model_id": "ebab23b9293040a08673de03be8fea44",
       "version_major": 2,
       "version_minor": 0
      },
      "text/plain": [
       "Map:   0%|          | 0/3188 [00:00<?, ? examples/s]"
      ]
     },
     "metadata": {},
     "output_type": "display_data"
    },
    {
     "data": {
      "application/vnd.jupyter.widget-view+json": {
       "model_id": "78e5d1d38bba4a58b5ec06357823ef2d",
       "version_major": 2,
       "version_minor": 0
      },
      "text/plain": [
       "Casting the dataset:   0%|          | 0/3188 [00:00<?, ? examples/s]"
      ]
     },
     "metadata": {},
     "output_type": "display_data"
    },
    {
     "data": {
      "application/vnd.jupyter.widget-view+json": {
       "model_id": "8c8ef318c6144522bb92a9c82a715076",
       "version_major": 2,
       "version_minor": 0
      },
      "text/plain": [
       "Map:   0%|          | 0/2500 [00:00<?, ? examples/s]"
      ]
     },
     "metadata": {},
     "output_type": "display_data"
    },
    {
     "data": {
      "application/vnd.jupyter.widget-view+json": {
       "model_id": "14b4ab7c04394831920a2e3f7beac340",
       "version_major": 2,
       "version_minor": 0
      },
      "text/plain": [
       "Casting the dataset:   0%|          | 0/2500 [00:00<?, ? examples/s]"
      ]
     },
     "metadata": {},
     "output_type": "display_data"
    },
    {
     "name": "stdout",
     "output_type": "stream",
     "text": [
      "proc\n"
     ]
    },
    {
     "name": "stderr",
     "output_type": "stream",
     "text": [
      "100%|██████████| 508/508 [00:04<00:00, 120.66it/s]\n",
      "100%|██████████| 508/508 [00:03<00:00, 160.13it/s]\n"
     ]
    },
    {
     "data": {
      "application/vnd.jupyter.widget-view+json": {
       "model_id": "0482147982ba4bd08d46b41a7ac45e0f",
       "version_major": 2,
       "version_minor": 0
      },
      "text/plain": [
       "Map:   0%|          | 0/3373 [00:00<?, ? examples/s]"
      ]
     },
     "metadata": {},
     "output_type": "display_data"
    },
    {
     "data": {
      "application/vnd.jupyter.widget-view+json": {
       "model_id": "a42684ea125b454c8fd05142f91e4763",
       "version_major": 2,
       "version_minor": 0
      },
      "text/plain": [
       "Casting the dataset:   0%|          | 0/3373 [00:00<?, ? examples/s]"
      ]
     },
     "metadata": {},
     "output_type": "display_data"
    },
    {
     "data": {
      "application/vnd.jupyter.widget-view+json": {
       "model_id": "7af0e0321a464f46adb37a51ceebd23e",
       "version_major": 2,
       "version_minor": 0
      },
      "text/plain": [
       "Map:   0%|          | 0/2732 [00:00<?, ? examples/s]"
      ]
     },
     "metadata": {},
     "output_type": "display_data"
    },
    {
     "data": {
      "application/vnd.jupyter.widget-view+json": {
       "model_id": "e2b4685da0444bfead3362e67633ac02",
       "version_major": 2,
       "version_minor": 0
      },
      "text/plain": [
       "Casting the dataset:   0%|          | 0/2732 [00:00<?, ? examples/s]"
      ]
     },
     "metadata": {},
     "output_type": "display_data"
    },
    {
     "name": "stdout",
     "output_type": "stream",
     "text": [
      "symp\n"
     ]
    },
    {
     "name": "stderr",
     "output_type": "stream",
     "text": [
      "100%|██████████| 508/508 [00:04<00:00, 121.26it/s]\n",
      "100%|██████████| 508/508 [00:03<00:00, 160.58it/s]\n"
     ]
    },
    {
     "data": {
      "application/vnd.jupyter.widget-view+json": {
       "model_id": "114bfa9d8f0341bfbb1b3987fe728e39",
       "version_major": 2,
       "version_minor": 0
      },
      "text/plain": [
       "Map:   0%|          | 0/3373 [00:00<?, ? examples/s]"
      ]
     },
     "metadata": {},
     "output_type": "display_data"
    },
    {
     "data": {
      "application/vnd.jupyter.widget-view+json": {
       "model_id": "c5fac60f4f4141328c5e652c11ace0f8",
       "version_major": 2,
       "version_minor": 0
      },
      "text/plain": [
       "Casting the dataset:   0%|          | 0/3373 [00:00<?, ? examples/s]"
      ]
     },
     "metadata": {},
     "output_type": "display_data"
    },
    {
     "data": {
      "application/vnd.jupyter.widget-view+json": {
       "model_id": "3138d4d8416a49998607596bbb1624c7",
       "version_major": 2,
       "version_minor": 0
      },
      "text/plain": [
       "Map:   0%|          | 0/2732 [00:00<?, ? examples/s]"
      ]
     },
     "metadata": {},
     "output_type": "display_data"
    },
    {
     "data": {
      "application/vnd.jupyter.widget-view+json": {
       "model_id": "f8c52579fdff4508bb80dc733093d1e3",
       "version_major": 2,
       "version_minor": 0
      },
      "text/plain": [
       "Casting the dataset:   0%|          | 0/2732 [00:00<?, ? examples/s]"
      ]
     },
     "metadata": {},
     "output_type": "display_data"
    },
    {
     "name": "stdout",
     "output_type": "stream",
     "text": [
      "ro\n",
      "dis\n"
     ]
    },
    {
     "name": "stderr",
     "output_type": "stream",
     "text": [
      "100%|██████████| 508/508 [00:04<00:00, 103.35it/s]\n",
      "100%|██████████| 508/508 [00:04<00:00, 120.76it/s]\n"
     ]
    },
    {
     "data": {
      "application/vnd.jupyter.widget-view+json": {
       "model_id": "95822725489046e3b9a2bdc539106a1a",
       "version_major": 2,
       "version_minor": 0
      },
      "text/plain": [
       "Map:   0%|          | 0/3542 [00:00<?, ? examples/s]"
      ]
     },
     "metadata": {},
     "output_type": "display_data"
    },
    {
     "data": {
      "application/vnd.jupyter.widget-view+json": {
       "model_id": "6cf988356a244214aff90cdd47f2a875",
       "version_major": 2,
       "version_minor": 0
      },
      "text/plain": [
       "Casting the dataset:   0%|          | 0/3542 [00:00<?, ? examples/s]"
      ]
     },
     "metadata": {},
     "output_type": "display_data"
    },
    {
     "data": {
      "application/vnd.jupyter.widget-view+json": {
       "model_id": "98d6d1b7f1b6434a9ed1d2e843eeafcb",
       "version_major": 2,
       "version_minor": 0
      },
      "text/plain": [
       "Map:   0%|          | 0/2875 [00:00<?, ? examples/s]"
      ]
     },
     "metadata": {},
     "output_type": "display_data"
    },
    {
     "data": {
      "application/vnd.jupyter.widget-view+json": {
       "model_id": "045f30e2ab09450392db75a03be03718",
       "version_major": 2,
       "version_minor": 0
      },
      "text/plain": [
       "Casting the dataset:   0%|          | 0/2875 [00:00<?, ? examples/s]"
      ]
     },
     "metadata": {},
     "output_type": "display_data"
    },
    {
     "name": "stdout",
     "output_type": "stream",
     "text": [
      "med\n"
     ]
    },
    {
     "name": "stderr",
     "output_type": "stream",
     "text": [
      "100%|██████████| 508/508 [00:03<00:00, 154.64it/s]\n",
      "100%|██████████| 508/508 [00:02<00:00, 194.52it/s]\n"
     ]
    },
    {
     "data": {
      "application/vnd.jupyter.widget-view+json": {
       "model_id": "d180fc9add0e4676a4e3f39819029573",
       "version_major": 2,
       "version_minor": 0
      },
      "text/plain": [
       "Map:   0%|          | 0/3343 [00:00<?, ? examples/s]"
      ]
     },
     "metadata": {},
     "output_type": "display_data"
    },
    {
     "data": {
      "application/vnd.jupyter.widget-view+json": {
       "model_id": "829ecef25d5342d29eccf9b51077668d",
       "version_major": 2,
       "version_minor": 0
      },
      "text/plain": [
       "Casting the dataset:   0%|          | 0/3343 [00:00<?, ? examples/s]"
      ]
     },
     "metadata": {},
     "output_type": "display_data"
    },
    {
     "data": {
      "application/vnd.jupyter.widget-view+json": {
       "model_id": "c1bcb284990748d2aaed069e4f513ff7",
       "version_major": 2,
       "version_minor": 0
      },
      "text/plain": [
       "Map:   0%|          | 0/2660 [00:00<?, ? examples/s]"
      ]
     },
     "metadata": {},
     "output_type": "display_data"
    },
    {
     "data": {
      "application/vnd.jupyter.widget-view+json": {
       "model_id": "e157fc3b3bf64439a234e9572b2987e2",
       "version_major": 2,
       "version_minor": 0
      },
      "text/plain": [
       "Casting the dataset:   0%|          | 0/2660 [00:00<?, ? examples/s]"
      ]
     },
     "metadata": {},
     "output_type": "display_data"
    },
    {
     "name": "stdout",
     "output_type": "stream",
     "text": [
      "proc\n"
     ]
    },
    {
     "name": "stderr",
     "output_type": "stream",
     "text": [
      "100%|██████████| 508/508 [00:04<00:00, 118.56it/s]\n",
      "100%|██████████| 508/508 [00:03<00:00, 144.70it/s]\n"
     ]
    },
    {
     "data": {
      "application/vnd.jupyter.widget-view+json": {
       "model_id": "b78671e3f64d4a2b95890d61aa21d7ec",
       "version_major": 2,
       "version_minor": 0
      },
      "text/plain": [
       "Map:   0%|          | 0/3542 [00:00<?, ? examples/s]"
      ]
     },
     "metadata": {},
     "output_type": "display_data"
    },
    {
     "data": {
      "application/vnd.jupyter.widget-view+json": {
       "model_id": "f075e57b9c624eed98ca8cf16e59b6e9",
       "version_major": 2,
       "version_minor": 0
      },
      "text/plain": [
       "Casting the dataset:   0%|          | 0/3542 [00:00<?, ? examples/s]"
      ]
     },
     "metadata": {},
     "output_type": "display_data"
    },
    {
     "data": {
      "application/vnd.jupyter.widget-view+json": {
       "model_id": "48f08ab4939048edaa193d1e28bfb292",
       "version_major": 2,
       "version_minor": 0
      },
      "text/plain": [
       "Map:   0%|          | 0/2875 [00:00<?, ? examples/s]"
      ]
     },
     "metadata": {},
     "output_type": "display_data"
    },
    {
     "data": {
      "application/vnd.jupyter.widget-view+json": {
       "model_id": "79ad275a9e1240c082106c1a8f17afa8",
       "version_major": 2,
       "version_minor": 0
      },
      "text/plain": [
       "Casting the dataset:   0%|          | 0/2875 [00:00<?, ? examples/s]"
      ]
     },
     "metadata": {},
     "output_type": "display_data"
    },
    {
     "name": "stdout",
     "output_type": "stream",
     "text": [
      "symp\n"
     ]
    },
    {
     "name": "stderr",
     "output_type": "stream",
     "text": [
      "100%|██████████| 508/508 [00:04<00:00, 113.13it/s]\n",
      "100%|██████████| 508/508 [00:05<00:00, 87.16it/s] \n"
     ]
    },
    {
     "data": {
      "application/vnd.jupyter.widget-view+json": {
       "model_id": "ed56f0f1befa4c8683fe37cb0001bc3b",
       "version_major": 2,
       "version_minor": 0
      },
      "text/plain": [
       "Map:   0%|          | 0/3542 [00:00<?, ? examples/s]"
      ]
     },
     "metadata": {},
     "output_type": "display_data"
    },
    {
     "data": {
      "application/vnd.jupyter.widget-view+json": {
       "model_id": "4ea6a2741e7a44f88a67bed99d0ca9ea",
       "version_major": 2,
       "version_minor": 0
      },
      "text/plain": [
       "Casting the dataset:   0%|          | 0/3542 [00:00<?, ? examples/s]"
      ]
     },
     "metadata": {},
     "output_type": "display_data"
    },
    {
     "data": {
      "application/vnd.jupyter.widget-view+json": {
       "model_id": "cdb5be2cc6b34f5f871a1fe5c8a775df",
       "version_major": 2,
       "version_minor": 0
      },
      "text/plain": [
       "Map:   0%|          | 0/2875 [00:00<?, ? examples/s]"
      ]
     },
     "metadata": {},
     "output_type": "display_data"
    },
    {
     "data": {
      "application/vnd.jupyter.widget-view+json": {
       "model_id": "e86bc95a3b14429c8f7d477c621d681f",
       "version_major": 2,
       "version_minor": 0
      },
      "text/plain": [
       "Casting the dataset:   0%|          | 0/2875 [00:00<?, ? examples/s]"
      ]
     },
     "metadata": {},
     "output_type": "display_data"
    },
    {
     "name": "stdout",
     "output_type": "stream",
     "text": [
      "sv\n",
      "dis\n"
     ]
    },
    {
     "name": "stderr",
     "output_type": "stream",
     "text": [
      "100%|██████████| 508/508 [00:05<00:00, 98.63it/s] \n",
      "100%|██████████| 508/508 [00:03<00:00, 130.30it/s]\n"
     ]
    },
    {
     "data": {
      "application/vnd.jupyter.widget-view+json": {
       "model_id": "8e8c032893714959b47a3a75c814b514",
       "version_major": 2,
       "version_minor": 0
      },
      "text/plain": [
       "Map:   0%|          | 0/3342 [00:00<?, ? examples/s]"
      ]
     },
     "metadata": {},
     "output_type": "display_data"
    },
    {
     "data": {
      "application/vnd.jupyter.widget-view+json": {
       "model_id": "c777f7bbe210444b92a056be8d0698c4",
       "version_major": 2,
       "version_minor": 0
      },
      "text/plain": [
       "Casting the dataset:   0%|          | 0/3342 [00:00<?, ? examples/s]"
      ]
     },
     "metadata": {},
     "output_type": "display_data"
    },
    {
     "data": {
      "application/vnd.jupyter.widget-view+json": {
       "model_id": "3147ccc0b6054b65b7aea64c9ec79d51",
       "version_major": 2,
       "version_minor": 0
      },
      "text/plain": [
       "Map:   0%|          | 0/2705 [00:00<?, ? examples/s]"
      ]
     },
     "metadata": {},
     "output_type": "display_data"
    },
    {
     "data": {
      "application/vnd.jupyter.widget-view+json": {
       "model_id": "c3e060f7ba9540e68187b625cef8fd4e",
       "version_major": 2,
       "version_minor": 0
      },
      "text/plain": [
       "Casting the dataset:   0%|          | 0/2705 [00:00<?, ? examples/s]"
      ]
     },
     "metadata": {},
     "output_type": "display_data"
    },
    {
     "name": "stdout",
     "output_type": "stream",
     "text": [
      "med\n"
     ]
    },
    {
     "name": "stderr",
     "output_type": "stream",
     "text": [
      "100%|██████████| 508/508 [00:03<00:00, 141.76it/s]\n",
      "100%|██████████| 508/508 [00:02<00:00, 203.73it/s]\n"
     ]
    },
    {
     "data": {
      "application/vnd.jupyter.widget-view+json": {
       "model_id": "41a2505a55114a52acabd30037685759",
       "version_major": 2,
       "version_minor": 0
      },
      "text/plain": [
       "Map:   0%|          | 0/3154 [00:00<?, ? examples/s]"
      ]
     },
     "metadata": {},
     "output_type": "display_data"
    },
    {
     "data": {
      "application/vnd.jupyter.widget-view+json": {
       "model_id": "8ad39521787f425293ad005c613d793e",
       "version_major": 2,
       "version_minor": 0
      },
      "text/plain": [
       "Casting the dataset:   0%|          | 0/3154 [00:00<?, ? examples/s]"
      ]
     },
     "metadata": {},
     "output_type": "display_data"
    },
    {
     "data": {
      "application/vnd.jupyter.widget-view+json": {
       "model_id": "a21aa1f505cb40a2ad6b91cc8a45d4d7",
       "version_major": 2,
       "version_minor": 0
      },
      "text/plain": [
       "Map:   0%|          | 0/2469 [00:00<?, ? examples/s]"
      ]
     },
     "metadata": {},
     "output_type": "display_data"
    },
    {
     "data": {
      "application/vnd.jupyter.widget-view+json": {
       "model_id": "0f8a24f223594fbebb1122a205d7ae4f",
       "version_major": 2,
       "version_minor": 0
      },
      "text/plain": [
       "Casting the dataset:   0%|          | 0/2469 [00:00<?, ? examples/s]"
      ]
     },
     "metadata": {},
     "output_type": "display_data"
    },
    {
     "name": "stdout",
     "output_type": "stream",
     "text": [
      "proc\n"
     ]
    },
    {
     "name": "stderr",
     "output_type": "stream",
     "text": [
      "100%|██████████| 508/508 [00:04<00:00, 116.92it/s]\n",
      "100%|██████████| 508/508 [00:03<00:00, 143.14it/s]\n"
     ]
    },
    {
     "data": {
      "application/vnd.jupyter.widget-view+json": {
       "model_id": "88e08b512e5543cb9868ccf2ab405bc3",
       "version_major": 2,
       "version_minor": 0
      },
      "text/plain": [
       "Map:   0%|          | 0/3342 [00:00<?, ? examples/s]"
      ]
     },
     "metadata": {},
     "output_type": "display_data"
    },
    {
     "data": {
      "application/vnd.jupyter.widget-view+json": {
       "model_id": "cb8bcd5099cb46fab8669f3aefe2f01f",
       "version_major": 2,
       "version_minor": 0
      },
      "text/plain": [
       "Casting the dataset:   0%|          | 0/3342 [00:00<?, ? examples/s]"
      ]
     },
     "metadata": {},
     "output_type": "display_data"
    },
    {
     "data": {
      "application/vnd.jupyter.widget-view+json": {
       "model_id": "83f1a1fce10541b3ac09584d3860a567",
       "version_major": 2,
       "version_minor": 0
      },
      "text/plain": [
       "Map:   0%|          | 0/2705 [00:00<?, ? examples/s]"
      ]
     },
     "metadata": {},
     "output_type": "display_data"
    },
    {
     "data": {
      "application/vnd.jupyter.widget-view+json": {
       "model_id": "202ccf3b3c5e4efeadf01fa34a88597b",
       "version_major": 2,
       "version_minor": 0
      },
      "text/plain": [
       "Casting the dataset:   0%|          | 0/2705 [00:00<?, ? examples/s]"
      ]
     },
     "metadata": {},
     "output_type": "display_data"
    },
    {
     "name": "stdout",
     "output_type": "stream",
     "text": [
      "symp\n"
     ]
    },
    {
     "name": "stderr",
     "output_type": "stream",
     "text": [
      "100%|██████████| 508/508 [00:04<00:00, 114.72it/s]\n",
      "100%|██████████| 508/508 [00:03<00:00, 140.65it/s]\n"
     ]
    },
    {
     "data": {
      "application/vnd.jupyter.widget-view+json": {
       "model_id": "27957b59b82841858eb4679e91e1bef1",
       "version_major": 2,
       "version_minor": 0
      },
      "text/plain": [
       "Map:   0%|          | 0/3342 [00:00<?, ? examples/s]"
      ]
     },
     "metadata": {},
     "output_type": "display_data"
    },
    {
     "data": {
      "application/vnd.jupyter.widget-view+json": {
       "model_id": "c7fddc72e4ee49a1ac00efac420d8dc4",
       "version_major": 2,
       "version_minor": 0
      },
      "text/plain": [
       "Casting the dataset:   0%|          | 0/3342 [00:00<?, ? examples/s]"
      ]
     },
     "metadata": {},
     "output_type": "display_data"
    },
    {
     "data": {
      "application/vnd.jupyter.widget-view+json": {
       "model_id": "427dbbb679214f36a04e58882fec6501",
       "version_major": 2,
       "version_minor": 0
      },
      "text/plain": [
       "Map:   0%|          | 0/2705 [00:00<?, ? examples/s]"
      ]
     },
     "metadata": {},
     "output_type": "display_data"
    },
    {
     "data": {
      "application/vnd.jupyter.widget-view+json": {
       "model_id": "205cb5b51ea540d8bc8a08d82120b931",
       "version_major": 2,
       "version_minor": 0
      },
      "text/plain": [
       "Casting the dataset:   0%|          | 0/2705 [00:00<?, ? examples/s]"
      ]
     },
     "metadata": {},
     "output_type": "display_data"
    }
   ],
   "source": [
    "cardio_ds_langs = {\n",
    "    \"es\":\"Spanish\",\n",
    "    \"en\": \"English\",\n",
    "    \"cz\": \"Czech\",\n",
    "    \"nl\": \"Dutch\",\n",
    "    \"it\": \"Italian\",\n",
    "    \"ro\": \"Romanian\",\n",
    "    \"sv\":\"Swedish\"\n",
    "}\n",
    "\n",
    "for lang_code, lang_name in cardio_ds_langs.items():\n",
    "    print(lang_code)\n",
    "    root = f\"../dataset/{lang_name}\"\n",
    "    lang = f\"{lang_code}\"\n",
    "\n",
    "\n",
    "    label_dict = {\n",
    "        \"dis\": [\"B-DISEASE\", \"I-DISEASE\", \"O\"],\n",
    "        \"med\": ['B-MEDICATION', 'I-MEDICATION', 'O'],\n",
    "        \"proc\": ['B-PROCEDURE', 'I-PROCEDURE', 'O'],\n",
    "        \"symp\": ['B-SYMPTOM', 'I-SYMPTOM', 'O'],\n",
    "    }\n",
    "    for cat in label_dict.keys():\n",
    "        print(cat)\n",
    "        label_list = label_dict[cat]  \n",
    "\n",
    "\n",
    "        # path to all .txt files\n",
    "        txt_root_dict = os.path.join(root, \"txt\")\n",
    "\n",
    "        # path to train/test annotations\n",
    "        tsv_file_path_train = os.path.join(root, f\"train_cardioccc_{lang}_{cat}.tsv\")\n",
    "        tsv_file_path_test = os.path.join(root,  f\"test_cardioccc_{lang}_{cat}.tsv\")\n",
    "\n",
    "        # path to save the IOB files\n",
    "        iob_file_path_train = os.path.join(root, f\"train_cardioccc_{lang}_{cat}.iob\")\n",
    "        iob_file_path_test = os.path.join(root, f\"test_cardioccc_{lang}_{cat}.iob\")\n",
    "\n",
    "\n",
    "        generate_iob(txt_root_dict, tsv_file_path_train, iob_file_path_train)\n",
    "        generate_iob(txt_root_dict, tsv_file_path_test, iob_file_path_test)\n",
    "\n",
    "\n",
    "        HF_dataset = convert_conll_to_datasetdict(iob_file_path_train, test_path= iob_file_path_test, label_list=label_list)\n",
    "        HF_dataset\n",
    "    # ds.save_to_disk(r\"dataset/processed_dataset\")"
   ]
  },
  {
   "cell_type": "code",
   "execution_count": null,
   "id": "8a17babb",
   "metadata": {},
   "outputs": [],
   "source": []
  }
 ],
 "metadata": {
  "kernelspec": {
   "display_name": "bert",
   "language": "python",
   "name": "python3"
  },
  "language_info": {
   "codemirror_mode": {
    "name": "ipython",
    "version": 3
   },
   "file_extension": ".py",
   "mimetype": "text/x-python",
   "name": "python",
   "nbconvert_exporter": "python",
   "pygments_lexer": "ipython3",
   "version": "3.10.16"
  }
 },
 "nbformat": 4,
 "nbformat_minor": 5
}
